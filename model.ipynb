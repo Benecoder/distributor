{
 "cells": [
  {
   "cell_type": "markdown",
   "metadata": {},
   "source": [
    "<h3>Build up the network</h3>\n",
    "Your Genesis cloud API token needs to be set in the environment variable GC_API_TOKEN, the name of your SSH key should be set in the variable GC_SSH_KEY_NAME. If you are sure that you won't accidently push them to github, you can also overwrite them in here."
   ]
  },
  {
   "cell_type": "code",
   "execution_count": 4,
   "metadata": {},
   "outputs": [],
   "source": [
    "import os\n",
    "from build_docker_image import *\n",
    "from start_workers import *"
   ]
  },
  {
   "cell_type": "code",
   "execution_count": 5,
   "metadata": {},
   "outputs": [
    {
     "name": "stdout",
     "output_type": "stream",
     "text": [
      "Creating instance 21e4c7d4-dfac-4db4-b16d-f9391199be89\n",
      "instance is starting ...\n",
      "public ip is: 194.61.20.175\n",
      "Used image snapshot nvidia+docker for installation.\n"
     ]
    }
   ],
   "source": [
    "ssh_key = os.getenv('GC_SSH_KEY_NAME')\n",
    "api_token = os.getenv('GC_API_TOKEN')\n",
    "no_workers = 1\n",
    "\n",
    "gateway_instance = build_image(ssh_key, api_token)"
   ]
  },
  {
   "cell_type": "code",
   "execution_count": 6,
   "metadata": {},
   "outputs": [
    {
     "name": "stdout",
     "output_type": "stream",
     "text": [
      "Launching Alice as a worker node on a separate instance.\n",
      "Creating instance b93fb3a3-3da1-4530-b247-43fa7fefbd9f\n",
      "instance is starting ...\n",
      "public ip is: 194.61.21.226\n",
      "running startup script ...\n"
     ]
    }
   ],
   "source": [
    "nodes = start_workers(gateway_instance['ip'], api_token, ssh_key, no_workers)"
   ]
  },
  {
   "cell_type": "markdown",
   "metadata": {},
   "source": [
    "TODO: The feedback system that figures out, when what module has finished installing is still faulty. In case of doubt check /var/log/cloud-init-output.log and rerun the docker-compose up."
   ]
  },
  {
   "cell_type": "markdown",
   "metadata": {},
   "source": [
    "<h3>Import all the required pysyft</h3>"
   ]
  },
  {
   "cell_type": "code",
   "execution_count": 1,
   "metadata": {},
   "outputs": [],
   "source": [
    "import torch\n",
    "import torch.nn as nn\n",
    "import torch.nn.functional as F\n",
    "import torch.optim as optim\n",
    "from torchvision import datasets, transforms\n",
    "import syft as sy\n",
    "from syft.grid.public_grid import PublicGridNetwork\n",
    "from syft.workers.node_client import NodeClient\n",
    "hook = sy.TorchHook(torch)\n",
    "sy.hook.local_worker.is_client_worker = False"
   ]
  },
  {
   "cell_type": "code",
   "execution_count": 2,
   "metadata": {},
   "outputs": [],
   "source": [
    "GRID_PORT = '5000'\n",
    "NODE_PORT = \"3000\""
   ]
  },
  {
   "cell_type": "code",
   "execution_count": 4,
   "metadata": {},
   "outputs": [],
   "source": [
    "gateway_instance = {'ip':'194.61.20.175'}\n",
    "class node:\n",
    "    def __init__(self,ip):\n",
    "        self.ip = ip\n",
    "nodes = [node('194.61.21.226')]"
   ]
  },
  {
   "cell_type": "code",
   "execution_count": 7,
   "metadata": {},
   "outputs": [
    {
     "data": {
      "text/plain": [
       "tensor([1, 2, 3])"
      ]
     },
     "execution_count": 7,
     "metadata": {},
     "output_type": "execute_result"
    }
   ],
   "source": [
    "a = torch.tensor([1,2,3])\n",
    "a_ptr = a.send(alice)\n",
    "a_ptr = a.send(brutus)\n",
    "a_ptr.get()"
   ]
  }
 ],
 "metadata": {
  "kernelspec": {
   "display_name": "Python 3",
   "language": "python",
   "name": "python3"
  },
  "language_info": {
   "codemirror_mode": {
    "name": "ipython",
    "version": 3
   },
   "file_extension": ".py",
   "mimetype": "text/x-python",
   "name": "python",
   "nbconvert_exporter": "python",
   "pygments_lexer": "ipython3",
   "version": "3.7.7"
  }
 },
 "nbformat": 4,
 "nbformat_minor": 4
}
