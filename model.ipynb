{
 "cells": [
  {
   "cell_type": "markdown",
   "metadata": {},
   "source": [
    "<h3>Build up the network</h3>\n",
    "Your Genesis cloud API token needs to be set in the environment variable GC_API_TOKEN, the name of your SSH key should be set in the variable GC_SSH_KEY_NAME. If you are sure that you won't accidently push them to github, you can also overwrite them in here."
   ]
  },
  {
   "cell_type": "code",
   "execution_count": 1,
   "metadata": {},
   "outputs": [],
   "source": [
    "import os\n",
    "from create_nodes import *"
   ]
  },
  {
   "cell_type": "code",
   "execution_count": 2,
   "metadata": {},
   "outputs": [
    {
     "name": "stdout",
     "output_type": "stream",
     "text": [
      "Creating instance 29f931af-7689-493c-8d21-e5eef8b5a25c\n",
      "instance is starting ...\n",
      "public ip is: 194.61.20.84\n",
      "Using image snapshot nvidia+docker for installation.\n"
     ]
    }
   ],
   "source": [
    "my_client = Client(api_token_arg)\n",
    "if not my_client.connect():\n",
    "    exit()\n",
    "\n",
    "gateway = create_gateway(my_client, ssh_key_arg)\n",
    "create_workers(my_client, ssh_key_arg, gateway.private_ip)"
   ]
  },
  {
   "cell_type": "markdown",
   "metadata": {},
   "source": [
    "<h3>Import all the required pysyft</h3>"
   ]
  },
  {
   "cell_type": "code",
   "execution_count": 1,
   "metadata": {},
   "outputs": [],
   "source": [
    "import torch\n",
    "import syft as sy\n",
    "from syft.grid.public_grid import PublicGridNetwork\n",
    "from syft.workers.node_client import NodeClient\n",
    "hook = sy.TorchHook(torch)\n",
    "sy.hook.local_worker.is_client_worker = False"
   ]
  },
  {
   "cell_type": "code",
   "execution_count": 4,
   "metadata": {},
   "outputs": [],
   "source": [
    "public_grid = PublicGridNetwork(hook, \"http://\"+gateway_instance['ip']+\":5000\")\n",
    "brutus = NodeClient(hook,\"http://\"+gateway_instance['ip']+\":3000\")\n",
    "alice = NodeClient(hook,\"http://\"+nodes[0].ip+\":3000\")"
   ]
  },
  {
   "cell_type": "code",
   "execution_count": 7,
   "metadata": {},
   "outputs": [
    {
     "data": {
      "text/plain": [
       "tensor([1, 2, 3])"
      ]
     },
     "execution_count": 7,
     "metadata": {},
     "output_type": "execute_result"
    }
   ],
   "source": [
    "a = torch.tensor([1,2,3])\n",
    "a_ptr = a.send(alice)\n",
    "a_ptr = a.send(brutus)\n",
    "a_ptr.get()"
   ]
  }
 ],
 "metadata": {
  "kernelspec": {
   "display_name": "Python 3",
   "language": "python",
   "name": "python3"
  },
  "language_info": {
   "codemirror_mode": {
    "name": "ipython",
    "version": 3
   },
   "file_extension": ".py",
   "mimetype": "text/x-python",
   "name": "python",
   "nbconvert_exporter": "python",
   "pygments_lexer": "ipython3",
   "version": "3.7.7"
  }
 },
 "nbformat": 4,
 "nbformat_minor": 4
}
