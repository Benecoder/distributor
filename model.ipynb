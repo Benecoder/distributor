{
 "cells": [
  {
   "cell_type": "markdown",
   "metadata": {},
   "source": [
    "<h3>Build up the network</h3>\n",
    "Your Genesis cloud API token needs to be set in the environment variable GC_API_TOKEN, the name of your SSH key should be set in the variable GC_SSH_KEY_NAME. If you are sure that you won't accidently push them to github, you can also overwrite them in here."
   ]
  },
  {
   "cell_type": "code",
   "execution_count": 1,
   "metadata": {},
   "outputs": [],
   "source": [
    "import os\n",
    "from create_nodes import *"
   ]
  },
  {
   "cell_type": "code",
   "execution_count": 4,
   "metadata": {},
   "outputs": [],
   "source": [
    "ssh_key = os.getenv('GC_SSH_KEY_NAME')\n",
    "api_token = os.getenv('GC_API_TOKEN')"
   ]
  },
  {
   "cell_type": "code",
   "execution_count": 6,
   "metadata": {},
   "outputs": [],
   "source": [
    "my_client = Client(api_token)\n",
    "if not my_client.connect():\n",
    "    exit()"
   ]
  },
  {
   "cell_type": "code",
   "execution_count": 8,
   "metadata": {},
   "outputs": [
    {
     "name": "stdout",
     "output_type": "stream",
     "text": [
      "Using the prebuild snapshot with docker installed.\n",
      "Instance 42ae68f8-acc2-4df3-b370-bb92a8039a29 is starting.\n",
      "instance is active at 194.61.21.198\n"
     ]
    }
   ],
   "source": [
    "gateway = create_gateway(my_client, ssh_key)"
   ]
  },
  {
   "cell_type": "code",
   "execution_count": 9,
   "metadata": {},
   "outputs": [
    {
     "name": "stdout",
     "output_type": "stream",
     "text": [
      "Launching Alice as a worker node on a separate instance.\n",
      "Worker Alice(4ea37418-7cf3-491e-93e2-b180d82724d6) is starting.\n",
      "activeng\r"
     ]
    },
    {
     "data": {
      "text/plain": [
       "[Instance({'id': '4ea37418-7cf3-491e-93e2-b180d82724d6', 'name': 'Alice', 'hostname': 'Alice', 'type': 'vcpu-4_memory-12g_disk-80g_nvidia1080ti-1', 'allowed_actions': ['start', 'shutoff', 'reset'], 'ssh_keys': [{'id': '98427258-109f-47be-8b27-20bf9ffb86d9', 'name': 'laptop-key'}], 'image': {'id': '4ebc5a6e-7e27-4ab1-8b36-09ec535e047e', 'name': 'nvidia+docker'}, 'security_groups': [{'id': '6ff66fd5-1a04-4e85-9dfe-99c8c98da73f', 'name': 'standard'}, {'id': '865e6bf8-f04d-4d94-bfeb-d3911c7d90c2', 'name': 'pygrid'}], 'status': 'active', 'private_ip': '192.168.10.120', 'public_ip': '194.61.20.203', 'created_at': '2020-06-03T17:13:36.720Z', 'updated_at': '2020-06-03T17:14:28.901Z'})]"
      ]
     },
     "execution_count": 9,
     "metadata": {},
     "output_type": "execute_result"
    }
   ],
   "source": [
    "create_workers(my_client, ssh_key, gateway.private_ip)"
   ]
  },
  {
   "cell_type": "markdown",
   "metadata": {},
   "source": [
    "<h3>Import all the required pysyft</h3>"
   ]
  },
  {
   "cell_type": "code",
   "execution_count": 1,
   "metadata": {},
   "outputs": [],
   "source": [
    "import torch\n",
    "import syft as sy\n",
    "from syft.grid.public_grid import PublicGridNetwork\n",
    "from syft.workers.node_client import NodeClient\n",
    "hook = sy.TorchHook(torch)\n",
    "sy.hook.local_worker.is_client_worker = False"
   ]
  },
  {
   "cell_type": "code",
   "execution_count": 4,
   "metadata": {},
   "outputs": [],
   "source": [
    "public_grid = PublicGridNetwork(hook, \"http://\"+gateway_instance['ip']+\":5000\")\n",
    "brutus = NodeClient(hook,\"http://\"+gateway_instance['ip']+\":3000\")\n",
    "alice = NodeClient(hook,\"http://\"+nodes[0].ip+\":3000\")"
   ]
  },
  {
   "cell_type": "code",
   "execution_count": 7,
   "metadata": {},
   "outputs": [
    {
     "data": {
      "text/plain": [
       "tensor([1, 2, 3])"
      ]
     },
     "execution_count": 7,
     "metadata": {},
     "output_type": "execute_result"
    }
   ],
   "source": [
    "a = torch.tensor([1,2,3])\n",
    "a_ptr = a.send(alice)\n",
    "a_ptr = a.send(brutus)\n",
    "a_ptr.get()"
   ]
  }
 ],
 "metadata": {
  "kernelspec": {
   "display_name": "Python 3",
   "language": "python",
   "name": "python3"
  },
  "language_info": {
   "codemirror_mode": {
    "name": "ipython",
    "version": 3
   },
   "file_extension": ".py",
   "mimetype": "text/x-python",
   "name": "python",
   "nbconvert_exporter": "python",
   "pygments_lexer": "ipython3",
   "version": "3.7.7"
  }
 },
 "nbformat": 4,
 "nbformat_minor": 4
}
